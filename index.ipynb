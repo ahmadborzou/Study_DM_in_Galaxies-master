{
 "cells": [
  {
   "cell_type": "markdown",
   "metadata": {},
   "source": [
    "Created on May 19 2019\n",
    "\n",
    "author     : Ahmad Borzou, PhD  \n",
    "email      : ahmad_borzou(at)baylor.edu  \n",
    "affiliation: Baylor University\n"
   ]
  },
  {
   "cell_type": "code",
   "execution_count": 1,
   "metadata": {},
   "outputs": [
    {
     "name": "stdout",
     "output_type": "stream",
     "text": [
      "r: 1.0e-01 (kpc) xi: 9.7e-05\n",
      "Ln(z): 7.0e+03 Ln(s): 7.2e+01 Ln(s)': 1.5e+06 Ln(s)'': 1.6e+10\n",
      "T: 9.9e-04 (K) y: 9.9e-01 y': -2.1e+02 y'': -2.2e+06\n",
      "n: 5.4e+14 (1/m^3) n/n0: 1.0e+00\n",
      "M: 1.2e+05 (sun)\n",
      "--\n",
      "r: 2.0e-01 (kpc) xi: 1.9e-04\n",
      "Ln(z): 7.3e+03 Ln(s): 3.0e+02 Ln(s)': 3.2e+06 Ln(s)'': 1.9e+10\n",
      "T: 9.6e-04 (K) y: 9.6e-01 y': -4.2e+02 y'': -2.2e+06\n",
      "n: 5.4e+14 (1/m^3) n/n0: 1.0e+00\n",
      "M: 9.8e+05 (sun)\n",
      "--\n",
      "r: 3.0e-01 (kpc) xi: 2.9e-04\n",
      "Ln(z): 7.7e+03 Ln(s): 7.0e+02 Ln(s)': 5.4e+06 Ln(s)'': 2.6e+10\n",
      "T: 9.1e-04 (K) y: 9.1e-01 y': -6.4e+02 y'': -2.2e+06\n",
      "n: 5.4e+14 (1/m^3) n/n0: 1.0e+00\n",
      "M: 3.3e+06 (sun)\n",
      "--\n",
      "r: 4.0e-01 (kpc) xi: 3.9e-04\n",
      "Ln(z): 8.3e+03 Ln(s): 1.4e+03 Ln(s)': 8.4e+06 Ln(s)'': 3.9e+10\n",
      "T: 8.4e-04 (K) y: 8.4e-01 y': -8.5e+02 y'': -2.2e+06\n",
      "n: 5.4e+14 (1/m^3) n/n0: 1.0e+00\n",
      "M: 7.8e+06 (sun)\n",
      "--\n",
      "r: 5.0e-01 (kpc) xi: 4.8e-04\n",
      "Ln(z): 9.3e+03 Ln(s): 2.4e+03 Ln(s)': 1.3e+07 Ln(s)'': 6.5e+10\n",
      "T: 7.4e-04 (K) y: 7.4e-01 y': -1.1e+03 y'': -2.2e+06\n",
      "n: 5.4e+14 (1/m^3) n/n0: 1.0e+00\n",
      "M: 1.5e+07 (sun)\n",
      "--\n",
      "r: 6.0e-01 (kpc) xi: 5.8e-04\n",
      "Ln(z): 1.1e+04 Ln(s): 4.0e+03 Ln(s)': 2.2e+07 Ln(s)'': 1.3e+11\n",
      "T: 6.3e-04 (K) y: 6.3e-01 y': -1.3e+03 y'': -2.2e+06\n",
      "n: 5.4e+14 (1/m^3) n/n0: 1.0e+00\n",
      "M: 2.6e+07 (sun)\n",
      "--\n",
      "r: 7.0e-01 (kpc) xi: 6.7e-04\n",
      "Ln(z): 1.4e+04 Ln(s): 7.0e+03 Ln(s)': 4.1e+07 Ln(s)'': 3.1e+11\n",
      "T: 5.0e-04 (K) y: 5.0e-01 y': -1.5e+03 y'': -2.2e+06\n",
      "n: 5.4e+14 (1/m^3) n/n0: 1.0e+00\n",
      "M: 4.2e+07 (sun)\n",
      "--\n",
      "r: 8.0e-01 (kpc) xi: 7.7e-04\n",
      "Ln(z): 2.0e+04 Ln(s): 1.3e+04 Ln(s)': 9.9e+07 Ln(s)'': 1.1e+12\n",
      "T: 3.5e-04 (K) y: 3.5e-01 y': -1.7e+03 y'': -2.2e+06\n",
      "n: 5.4e+14 (1/m^3) n/n0: 1.0e+00\n",
      "M: 6.3e+07 (sun)\n",
      "--\n",
      "r: 9.0e-01 (kpc) xi: 8.7e-04\n",
      "Ln(z): 4.0e+04 Ln(s): 3.3e+04 Ln(s)': 4.5e+08 Ln(s)'': 1.0e+13\n",
      "T: 1.7e-04 (K) y: 1.7e-01 y': -1.9e+03 y'': -2.2e+06\n",
      "n: 5.4e+14 (1/m^3) n/n0: 1.0e+00\n",
      "M: 8.9e+07 (sun)\n",
      "--\n"
     ]
    }
   ],
   "source": [
    "from Stability import *\n",
    "\n",
    "\n",
    "## solve the stability equations\n",
    "lns_arr, lnsp_arr, lnspp_arr,\\\n",
    "y_arr, yp_arr, ypp_arr,\\\n",
    "r_arr, rho_arr, P_arr,\\\n",
    "M_arr = SolveStability()\n",
    "\n",
    "\n",
    "## dr in SI units\n",
    "dr = r_arr[1]-r_arr[0]\n",
    "\n",
    "\n",
    "## convert the distance array to units of kpc\n",
    "r_arr_kpc = np.array(r_arr)/(co.parsec*1000)"
   ]
  },
  {
   "cell_type": "code",
   "execution_count": 2,
   "metadata": {},
   "outputs": [
    {
     "name": "stdout",
     "output_type": "stream",
     "text": [
      "Working on the plots ...\n"
     ]
    }
   ],
   "source": [
    "###################\n",
    "## plotting section\n",
    "###################\t\n",
    "print \"Working on the plots ...\"\n",
    "font = {\n",
    "        'family': 'serif',\n",
    "        'size': 14,\n",
    "        'style': 'normal',\n",
    "        'weight': 'medium',\n",
    "        'fontname': 'Arial'\n",
    "        }\n",
    "\n",
    "import matplotlib.pyplot as plt\n",
    "plt.rc('font', family='serif')\n",
    "plt.rc('xtick', labelsize='large')\n",
    "plt.rc('ytick', labelsize='large')"
   ]
  },
  {
   "cell_type": "code",
   "execution_count": 3,
   "metadata": {},
   "outputs": [
    {
     "data": {
      "image/png": "[encoded data removed]",
      "text/plain": [
       "<Figure size 1152x288 with 4 Axes>"
      ]
     },
     "metadata": {
      "needs_background": "light"
     },
     "output_type": "display_data"
    }
   ],
   "source": [
    "fig, axs = plt.subplots(1,4 , figsize=[16, 4])\n",
    "ax = axs[0]\n",
    "ax.plot(r_arr_kpc,rho_arr,linewidth=2,color='black',label='numeric')\n",
    "ax.set_ylabel(r'$ \\rho \\quad\\left( \\mathrm{kg}\\cdot\\mathrm{m}^{-3} \\right) $', fontdict=font)\n",
    "ax.set_xlabel(r'$ \\mathrm{r} \\quad \\left( \\mathrm{kpc} \\right) $', fontdict=font)\n",
    "#ax.set_yscale('log')\n",
    "ax = axs[1]\n",
    "ax.plot(r_arr_kpc,np.array(y_arr)*gal.T0,linewidth=2,color='black')\n",
    "ax.set_ylabel(r'$ \\mathrm{T} \\quad \\left( \\mathrm{K} \\right) $', fontdict=font)\n",
    "ax.set_xlabel(r'$ \\mathrm{r} \\quad \\left( \\mathrm{kpc} \\right) $', fontdict=font)\n",
    "ax.set_yscale('log')\n",
    "ax = axs[2]\n",
    "lnz = gal.lnz0+lns_arr\n",
    "ax.plot(r_arr_kpc,lnz,linewidth=2,color='black')\n",
    "ax.set_ylabel(r'$ \\mathrm{Ln}(\\mathrm{z}) $', fontdict=font)\n",
    "ax.set_xlabel(r'$ \\mathrm{r} \\quad \\left( \\mathrm{kpc} \\right) $', fontdict=font)\n",
    "if lnz.min() > 0.:\n",
    "    ax.set_yscale('log')\n",
    "ax = axs[3]\n",
    "ax.plot(r_arr_kpc,np.array(M_arr)/co.MSun,linewidth=2,color='black',label='numeric')\n",
    "ax.set_ylabel(r'$ \\mathrm{M} \\quad \\left( \\mathrm{M}_{\\odot} \\right)  $', fontdict=font)\n",
    "ax.set_xlabel(r'$ \\mathrm{r} \\quad \\left( \\mathrm{kpc} \\right) $', fontdict=font)\n",
    "ax.set_yscale('log')\n",
    "plt.subplots_adjust(hspace=0.4,wspace=0.4)\n",
    "plt.tight_layout()\n",
    "plt.show()"
   ]
  }
 ],
 "metadata": {
  "kernelspec": {
   "display_name": "Python 2",
   "language": "python",
   "name": "python2"
  },
  "language_info": {
   "codemirror_mode": {
    "name": "ipython",
    "version": 2
   },
   "file_extension": ".py",
   "mimetype": "text/x-python",
   "name": "python",
   "nbconvert_exporter": "python",
   "pygments_lexer": "ipython2",
   "version": "2.7.16"
  }
 },
 "nbformat": 4,
 "nbformat_minor": 2
}
